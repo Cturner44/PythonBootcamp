{
 "cells": [
  {
   "cell_type": "code",
   "execution_count": 1,
   "metadata": {},
   "outputs": [
    {
     "name": "stdout",
     "output_type": "stream",
     "text": [
      "How many ounces of water did you drink today?\n",
      "150\n",
      "Great! Your 150 is actually 1.171875 gallons. Stay hydrated!\n"
     ]
    }
   ],
   "source": [
    "print(\"How many ounces of water did you drink today?\")\n",
    "ounces = input()\n",
    "gallons = float(ounces)/128\n",
    "roundedgallons = round(gallons, 2)\n",
    "print(f\"Great! Your {ounces} is actually {gallons} gallons. Stay hydrated!\")"
   ]
  },
  {
   "cell_type": "code",
   "execution_count": 2,
   "metadata": {},
   "outputs": [
    {
     "name": "stdout",
     "output_type": "stream",
     "text": [
      "How many ounces of water did you drink today?\n",
      "120\n",
      "Great! Your 120 is actually 0.9375 gallons. Stay hydrated!\n"
     ]
    }
   ],
   "source": [
    "print(\"How many ounces of water did you drink today?\")\n",
    "ounces = input()\n",
    "gallons = float(ounces)/128\n",
    "roundedgallons = round(gallons, 2)\n",
    "print(f\"Great! Your {ounces} is actually {gallons} gallons. Stay hydrated!\")"
   ]
  },
  {
   "cell_type": "code",
   "execution_count": 3,
   "metadata": {},
   "outputs": [
    {
     "name": "stdout",
     "output_type": "stream",
     "text": [
      "How many ounces of water did you drink today?\n",
      "120\n",
      "Great! Your 120 is actually 0.9375 gallons. Stay hydrated!\n"
     ]
    }
   ],
   "source": [
    "print(\"How many ounces of water did you drink today?\")\n",
    "ounces = input()\n",
    "gallons = float(ounces)/128\n",
    "roundedgallons = round(gallons, 2)\n",
    "print(f\"Great! Your {ounces} is actually {gallons} gallons. Stay hydrated!\")"
   ]
  },
  {
   "cell_type": "code",
   "execution_count": 4,
   "metadata": {},
   "outputs": [
    {
     "name": "stdout",
     "output_type": "stream",
     "text": [
      "How many ounces of water did you drink today?\n",
      "130\n",
      "Great! Your 130 ounces is actually 1.02 gallons. Stay hydrated!\n"
     ]
    }
   ],
   "source": [
    "print(\"How many ounces of water did you drink today?\")\n",
    "ounces = input()\n",
    "gallons = float(ounces)/128\n",
    "roundedgallons = round(gallons, 2)\n",
    "print(f\"Great! Your {ounces} ounces is actually {roundedgallons} gallons. Stay hydrated!\")"
   ]
  }
 ],
 "metadata": {
  "kernelspec": {
   "display_name": "Python 3",
   "language": "python",
   "name": "python3"
  },
  "language_info": {
   "codemirror_mode": {
    "name": "ipython",
    "version": 3
   },
   "file_extension": ".py",
   "mimetype": "text/x-python",
   "name": "python",
   "nbconvert_exporter": "python",
   "pygments_lexer": "ipython3",
   "version": "3.7.0"
  }
 },
 "nbformat": 4,
 "nbformat_minor": 2
}
